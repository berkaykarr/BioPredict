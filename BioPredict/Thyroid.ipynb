{
 "cells": [
  {
   "cell_type": "markdown",
   "id": "3548aab2-8550-40ec-85bc-7a48bd6f8ceb",
   "metadata": {},
   "source": [
    "<h2><b>Importing Requirements</b></h2>"
   ]
  },
  {
   "cell_type": "code",
   "execution_count": null,
   "id": "ed6bb49f-47ad-480b-aa6e-8769e2f2359a",
   "metadata": {},
   "outputs": [],
   "source": [
    "import pandas as pd\n",
    "from sklearn.preprocessing import MinMaxScaler\n",
    "from sklearn.model_selection import train_test_split\n",
    "from sklearn.metrics import classification_report, roc_auc_score, ConfusionMatrixDisplay\n",
    "from xgboost import XGBClassifier\n"
   ]
  },
  {
   "cell_type": "markdown",
   "id": "a7881abe-cd15-48b8-a724-163c954f65fa",
   "metadata": {},
   "source": [
    "<h2><b>Data Loading</b></h2>"
   ]
  },
  {
   "cell_type": "code",
   "execution_count": 64,
   "id": "f6c2a397-5103-49b6-87c6-7bdc4f235d04",
   "metadata": {
    "scrolled": true
   },
   "outputs": [],
   "source": [
    "df = pd.read_csv('Thyroid_Diff.csv')"
   ]
  },
  {
   "cell_type": "markdown",
   "id": "155d6e07",
   "metadata": {},
   "source": [
    "<br>Data Info:<br>"
   ]
  },
  {
   "cell_type": "code",
   "execution_count": 65,
   "id": "a6cd905f",
   "metadata": {},
   "outputs": [
    {
     "data": {
      "text/html": [
       "<div>\n",
       "<style scoped>\n",
       "    .dataframe tbody tr th:only-of-type {\n",
       "        vertical-align: middle;\n",
       "    }\n",
       "\n",
       "    .dataframe tbody tr th {\n",
       "        vertical-align: top;\n",
       "    }\n",
       "\n",
       "    .dataframe thead th {\n",
       "        text-align: right;\n",
       "    }\n",
       "</style>\n",
       "<table border=\"1\" class=\"dataframe\">\n",
       "  <thead>\n",
       "    <tr style=\"text-align: right;\">\n",
       "      <th></th>\n",
       "      <th>Age</th>\n",
       "      <th>Gender</th>\n",
       "      <th>Smoking</th>\n",
       "      <th>Hx Smoking</th>\n",
       "      <th>Hx Radiothreapy</th>\n",
       "      <th>Thyroid Function</th>\n",
       "      <th>Physical Examination</th>\n",
       "      <th>Adenopathy</th>\n",
       "      <th>Pathology</th>\n",
       "      <th>Focality</th>\n",
       "      <th>Risk</th>\n",
       "      <th>T</th>\n",
       "      <th>N</th>\n",
       "      <th>M</th>\n",
       "      <th>Stage</th>\n",
       "      <th>Response</th>\n",
       "      <th>Recurred</th>\n",
       "    </tr>\n",
       "  </thead>\n",
       "  <tbody>\n",
       "    <tr>\n",
       "      <th>0</th>\n",
       "      <td>27</td>\n",
       "      <td>F</td>\n",
       "      <td>No</td>\n",
       "      <td>No</td>\n",
       "      <td>No</td>\n",
       "      <td>Euthyroid</td>\n",
       "      <td>Single nodular goiter-left</td>\n",
       "      <td>No</td>\n",
       "      <td>Micropapillary</td>\n",
       "      <td>Uni-Focal</td>\n",
       "      <td>Low</td>\n",
       "      <td>T1a</td>\n",
       "      <td>N0</td>\n",
       "      <td>M0</td>\n",
       "      <td>I</td>\n",
       "      <td>Indeterminate</td>\n",
       "      <td>No</td>\n",
       "    </tr>\n",
       "    <tr>\n",
       "      <th>1</th>\n",
       "      <td>34</td>\n",
       "      <td>F</td>\n",
       "      <td>No</td>\n",
       "      <td>Yes</td>\n",
       "      <td>No</td>\n",
       "      <td>Euthyroid</td>\n",
       "      <td>Multinodular goiter</td>\n",
       "      <td>No</td>\n",
       "      <td>Micropapillary</td>\n",
       "      <td>Uni-Focal</td>\n",
       "      <td>Low</td>\n",
       "      <td>T1a</td>\n",
       "      <td>N0</td>\n",
       "      <td>M0</td>\n",
       "      <td>I</td>\n",
       "      <td>Excellent</td>\n",
       "      <td>No</td>\n",
       "    </tr>\n",
       "    <tr>\n",
       "      <th>2</th>\n",
       "      <td>30</td>\n",
       "      <td>F</td>\n",
       "      <td>No</td>\n",
       "      <td>No</td>\n",
       "      <td>No</td>\n",
       "      <td>Euthyroid</td>\n",
       "      <td>Single nodular goiter-right</td>\n",
       "      <td>No</td>\n",
       "      <td>Micropapillary</td>\n",
       "      <td>Uni-Focal</td>\n",
       "      <td>Low</td>\n",
       "      <td>T1a</td>\n",
       "      <td>N0</td>\n",
       "      <td>M0</td>\n",
       "      <td>I</td>\n",
       "      <td>Excellent</td>\n",
       "      <td>No</td>\n",
       "    </tr>\n",
       "    <tr>\n",
       "      <th>3</th>\n",
       "      <td>62</td>\n",
       "      <td>F</td>\n",
       "      <td>No</td>\n",
       "      <td>No</td>\n",
       "      <td>No</td>\n",
       "      <td>Euthyroid</td>\n",
       "      <td>Single nodular goiter-right</td>\n",
       "      <td>No</td>\n",
       "      <td>Micropapillary</td>\n",
       "      <td>Uni-Focal</td>\n",
       "      <td>Low</td>\n",
       "      <td>T1a</td>\n",
       "      <td>N0</td>\n",
       "      <td>M0</td>\n",
       "      <td>I</td>\n",
       "      <td>Excellent</td>\n",
       "      <td>No</td>\n",
       "    </tr>\n",
       "    <tr>\n",
       "      <th>4</th>\n",
       "      <td>62</td>\n",
       "      <td>F</td>\n",
       "      <td>No</td>\n",
       "      <td>No</td>\n",
       "      <td>No</td>\n",
       "      <td>Euthyroid</td>\n",
       "      <td>Multinodular goiter</td>\n",
       "      <td>No</td>\n",
       "      <td>Micropapillary</td>\n",
       "      <td>Multi-Focal</td>\n",
       "      <td>Low</td>\n",
       "      <td>T1a</td>\n",
       "      <td>N0</td>\n",
       "      <td>M0</td>\n",
       "      <td>I</td>\n",
       "      <td>Excellent</td>\n",
       "      <td>No</td>\n",
       "    </tr>\n",
       "  </tbody>\n",
       "</table>\n",
       "</div>"
      ],
      "text/plain": [
       "   Age Gender Smoking Hx Smoking Hx Radiothreapy Thyroid Function  \\\n",
       "0   27      F      No         No              No        Euthyroid   \n",
       "1   34      F      No        Yes              No        Euthyroid   \n",
       "2   30      F      No         No              No        Euthyroid   \n",
       "3   62      F      No         No              No        Euthyroid   \n",
       "4   62      F      No         No              No        Euthyroid   \n",
       "\n",
       "          Physical Examination Adenopathy       Pathology     Focality Risk  \\\n",
       "0   Single nodular goiter-left         No  Micropapillary    Uni-Focal  Low   \n",
       "1          Multinodular goiter         No  Micropapillary    Uni-Focal  Low   \n",
       "2  Single nodular goiter-right         No  Micropapillary    Uni-Focal  Low   \n",
       "3  Single nodular goiter-right         No  Micropapillary    Uni-Focal  Low   \n",
       "4          Multinodular goiter         No  Micropapillary  Multi-Focal  Low   \n",
       "\n",
       "     T   N   M Stage       Response Recurred  \n",
       "0  T1a  N0  M0     I  Indeterminate       No  \n",
       "1  T1a  N0  M0     I      Excellent       No  \n",
       "2  T1a  N0  M0     I      Excellent       No  \n",
       "3  T1a  N0  M0     I      Excellent       No  \n",
       "4  T1a  N0  M0     I      Excellent       No  "
      ]
     },
     "execution_count": 65,
     "metadata": {},
     "output_type": "execute_result"
    }
   ],
   "source": [
    "df.head(5)"
   ]
  },
  {
   "cell_type": "code",
   "execution_count": 66,
   "id": "3fe41a99",
   "metadata": {},
   "outputs": [],
   "source": [
    "df.rename(columns={'Hx Smoking': 'Smoking History',\n",
    "                   'Hx Radiothreapy': 'Radiotherapy History',\n",
    "                   'Pathology': 'Types of Thyroid Cancer (Pathology)',\n",
    "                   'T': 'Tumor',\n",
    "                   'N': 'Lymph Nodes',\n",
    "                   'M': 'Cancer Metastasis',\n",
    "                  'Response' : 'Treatment Response'}, inplace=True)"
   ]
  },
  {
   "cell_type": "code",
   "execution_count": 67,
   "id": "8960e570",
   "metadata": {},
   "outputs": [],
   "source": [
    "df['Adenopathy'] = df['Adenopathy'].replace({\n",
    "    'No': 'No Lympth Adenopathy',\n",
    "    'Left': 'Left Side Body Adenopathy',\n",
    "    'Right': 'Right Side Body Adenopathy',\n",
    "    'Extensive': 'Extensive and Widespread'\n",
    "})\n",
    "\n",
    "df['Stage'] = df['Stage'].replace({\n",
    "    'I': 'First-Stage',\n",
    "    'II': 'Second-Stage',\n",
    "    'III': 'Third-Stage'\n",
    "})\n",
    "\n",
    "df['Tumor'] = df['Tumor'].replace({\n",
    "    'T1a': 'tumor that is 1 cm or smaller',\n",
    "    'T1b': 'tumor larger than 1 cm but not larger than 2 cm',\n",
    "    'T2': 'tumor larger than 2 cm but not larger than 4 cm',\n",
    "    'T3a': 'tumor larger than 4 cm',\n",
    "    'T3b': 'tumor that has grown outside the thyroid',\n",
    "    'T4a': 'tumor that has invaded nearby structures',\n",
    "    'T4b': 'tumor that has invaded nearby structures'\n",
    "})\n",
    "\n",
    "df['Lymph Nodes'] = df['Lymph Nodes'].replace({\n",
    "    'N0': 'no evidence of regional lymph node metastasis',\n",
    "    'N1b': 'regional lymph node metastasis in the central of the neck',\n",
    "    'N1a': 'regional lymph node metastasis in the lateral of the neck'\n",
    "})\n",
    "\n",
    "df['Cancer Metastasis'] = df['Cancer Metastasis'].replace({\n",
    "    'M0': 'no evidence of distant metastasis',\n",
    "    'M1': 'the presence of distant metastasis'\n",
    "})\n"
   ]
  },
  {
   "cell_type": "markdown",
   "id": "ccc75412",
   "metadata": {},
   "source": [
    "Checking Duplicate Values"
   ]
  },
  {
   "cell_type": "code",
   "execution_count": 68,
   "id": "8cab8124",
   "metadata": {},
   "outputs": [
    {
     "name": "stdout",
     "output_type": "stream",
     "text": [
      "Repeated coloumn value: 19\n"
     ]
    }
   ],
   "source": [
    "duplicates = df[df.duplicated()]\n",
    "\n",
    "print(f\"Repeated coloumn value: {duplicates.shape[0]}\")"
   ]
  },
  {
   "cell_type": "code",
   "execution_count": 69,
   "id": "1fd5cd2d",
   "metadata": {},
   "outputs": [
    {
     "name": "stdout",
     "output_type": "stream",
     "text": [
      "After removing duplicates, the shape of the dataframe is: (364, 17)\n"
     ]
    }
   ],
   "source": [
    "df.drop_duplicates(inplace=True)\n",
    "print(f\"After removing duplicates, the shape of the dataframe is: {df.shape}\")"
   ]
  },
  {
   "cell_type": "code",
   "execution_count": 70,
   "id": "25291ebc",
   "metadata": {},
   "outputs": [],
   "source": [
    "df = df.drop(columns=[\"Smoking\", \"Radiotherapy History\", \"Smoking History\",\"Cancer Metastasis\"])\n"
   ]
  },
  {
   "cell_type": "markdown",
   "id": "4af1e1d0",
   "metadata": {},
   "source": [
    "Normalization"
   ]
  },
  {
   "cell_type": "code",
   "execution_count": null,
   "id": "1dd3e398",
   "metadata": {},
   "outputs": [],
   "source": [
    "scaler = MinMaxScaler()\n",
    "\n",
    "def data_preprocessing(df):\n",
    "    df.drop_duplicates(inplace=True)  \n",
    "    df['Recurred']=[0 if result=='No' else 1 for result in df['Recurred']]\n",
    "    df[['Age']] = scaler.fit_transform(df[['Age']])\n",
    "    categorical_features = list(df.keys())[1:]\n",
    "    for feature in categorical_features:\n",
    "        df[feature] = df[feature].astype('category')\n",
    "    y, X = df['Recurred'], df.drop('Recurred', axis=1)\n",
    "    return y, X"
   ]
  },
  {
   "cell_type": "code",
   "execution_count": 72,
   "id": "e34436cd",
   "metadata": {},
   "outputs": [],
   "source": [
    "y, X = data_preprocessing(df)\n"
   ]
  },
  {
   "cell_type": "code",
   "execution_count": 73,
   "id": "f5a67ea8",
   "metadata": {},
   "outputs": [],
   "source": [
    "X_train, X_test, y_train, y_test = train_test_split( X, y, test_size = 0.125, random_state = 42)"
   ]
  },
  {
   "cell_type": "code",
   "execution_count": 74,
   "id": "92889095",
   "metadata": {},
   "outputs": [],
   "source": [
    "xgb_clf = XGBClassifier(\n",
    "    n_estimators=350,\n",
    "    enable_categorical=True,\n",
    "    colsample_bytree=0.75,\n",
    "    max_depth=9,\n",
    "    n_jobs=-1,\n",
    "    gamma=0.1\n",
    ")\n",
    "xgb_clf.fit(X_train, y_train)\n",
    "y_pred = xgb_clf.predict(X_test)\n",
    "y_prob = xgb_clf.predict_proba(X_test)[:, 1]"
   ]
  },
  {
   "cell_type": "code",
   "execution_count": 75,
   "id": "454e5ef2",
   "metadata": {},
   "outputs": [
    {
     "name": "stdout",
     "output_type": "stream",
     "text": [
      "Classification Report:\n",
      "\n",
      "              precision    recall  f1-score   support\n",
      "\n",
      "           0       0.95      1.00      0.97        35\n",
      "           1       1.00      0.82      0.90        11\n",
      "\n",
      "    accuracy                           0.96        46\n",
      "   macro avg       0.97      0.91      0.94        46\n",
      "weighted avg       0.96      0.96      0.95        46\n",
      "\n"
     ]
    }
   ],
   "source": [
    "print(\"Classification Report:\\n\")\n",
    "print(classification_report(y_test, y_pred))"
   ]
  },
  {
   "cell_type": "code",
   "execution_count": 76,
   "id": "29a6b8cd",
   "metadata": {},
   "outputs": [
    {
     "name": "stdout",
     "output_type": "stream",
     "text": [
      "ROC AUC Score: 0.9922\n"
     ]
    }
   ],
   "source": [
    "print(f\"ROC AUC Score: {roc_auc_score(y_test, y_prob):.4f}\")\n"
   ]
  },
  {
   "cell_type": "code",
   "execution_count": null,
   "id": "902f6402",
   "metadata": {},
   "outputs": [
    {
     "name": "stderr",
     "output_type": "stream",
     "text": [
      "C:\\Users\\BERKAY\\AppData\\Local\\Temp\\ipykernel_5636\\4192491341.py:17: FutureWarning: \n",
      "\n",
      "Passing `palette` without assigning `hue` is deprecated and will be removed in v0.14.0. Assign the `y` variable to `hue` and set `legend=False` for the same effect.\n",
      "\n",
      "  sns.barplot(data=importance_df, x=\"Importance\", y=\"Feature\", palette=\"viridis\")\n",
      "C:\\Users\\BERKAY\\AppData\\Local\\Temp\\ipykernel_5636\\4192491341.py:21: UserWarning: Glyph 128202 (\\N{BAR CHART}) missing from font(s) DejaVu Sans.\n",
      "  plt.tight_layout()\n",
      "c:\\Users\\BERKAY\\anaconda3\\Lib\\site-packages\\IPython\\core\\pylabtools.py:170: UserWarning: Glyph 128202 (\\N{BAR CHART}) missing from font(s) DejaVu Sans.\n",
      "  fig.canvas.print_figure(bytes_io, **kw)\n"
     ]
    },
    {
     "data": {
      "image/png": "[encoded data removed]",
      "text/plain": [
       "<Figure size 1200x600 with 1 Axes>"
      ]
     },
     "metadata": {},
     "output_type": "display_data"
    }
   ],
   "source": [
    "import matplotlib.pyplot as plt\n",
    "import seaborn as sns\n",
    "import pandas as pd\n",
    "\n",
    "importances = xgb_clf.feature_importances_\n",
    "feature_names = X_train.columns\n",
    "\n",
    "importance_df = pd.DataFrame({\n",
    "    \"Feature\": feature_names,\n",
    "    \"Importance\": importances\n",
    "}).sort_values(by=\"Importance\", ascending=False)\n",
    "\n",
    "plt.figure(figsize=(12, 6))\n",
    "sns.barplot(data=importance_df, x=\"Importance\", y=\"Feature\", palette=\"viridis\")\n",
    "plt.title(\"Importance Feature Ranking (XGBoost)\")\n",
    "plt.xlabel(\"Importance\")\n",
    "plt.ylabel(\"Feature\")\n",
    "plt.tight_layout()\n",
    "plt.show()\n"
   ]
  },
  {
   "cell_type": "code",
   "execution_count": 78,
   "id": "6cffca3a",
   "metadata": {},
   "outputs": [
    {
     "name": "stdout",
     "output_type": "stream",
     "text": [
      "Index(['Age', 'Gender', 'Thyroid Function', 'Physical Examination',\n",
      "       'Adenopathy', 'Types of Thyroid Cancer (Pathology)', 'Focality', 'Risk',\n",
      "       'Tumor', 'Lymph Nodes', 'Stage', 'Treatment Response'],\n",
      "      dtype='object')\n"
     ]
    }
   ],
   "source": [
    "print(feature_names)"
   ]
  },
  {
   "cell_type": "code",
   "execution_count": 79,
   "id": "154c07f5",
   "metadata": {},
   "outputs": [
    {
     "name": "stdout",
     "output_type": "stream",
     "text": [
      "Age unique values:\n",
      "[0.17910448 0.28358209 0.2238806  0.70149254 0.55223881 0.3880597\n",
      " 0.46268657 0.53731343 0.37313433 0.89552239 0.65671642 0.50746269\n",
      " 0.52238806 0.91044776 0.40298507 0.43283582 0.41791045 0.31343284\n",
      " 0.82089552 0.67164179 0.26865672 0.1641791  0.32835821 0.59701493\n",
      " 0.23880597 0.44776119 0.07462687 0.34328358 0.20895522 0.14925373\n",
      " 0.08955224 0.11940299 0.13432836 0.29850746 0.58208955 0.10447761\n",
      " 0.80597015 0.19402985 0.02985075 0.86567164 0.04477612 0.35820896\n",
      " 0.62686567 0.76119403 0.25373134 0.47761194 0.6119403  0.71641791\n",
      " 0.05970149 0.7761194  0.85074627 0.68656716 0.79104478 0.49253731\n",
      " 0.98507463 0.56716418 0.64179104 0.97014925 0.95522388 0.74626866\n",
      " 0.         1.         0.8358209  0.73134328 0.94029851]\n",
      "------------------------------\n",
      "Gender unique values:\n",
      "['F', 'M']\n",
      "Categories (2, object): ['F', 'M']\n",
      "------------------------------\n",
      "Thyroid Function unique values:\n",
      "['Euthyroid', 'Clinical Hyperthyroidism', 'Clinical Hypothyroidism', 'Subclinical Hyperthyroidism', 'Subclinical Hypothyroidism']\n",
      "Categories (5, object): ['Clinical Hyperthyroidism', 'Clinical Hypothyroidism', 'Euthyroid', 'Subclinical Hyperthyroidism', 'Subclinical Hypothyroidism']\n",
      "------------------------------\n",
      "Physical Examination unique values:\n",
      "['Single nodular goiter-left', 'Multinodular goiter', 'Single nodular goiter-right', 'Normal', 'Diffuse goiter']\n",
      "Categories (5, object): ['Diffuse goiter', 'Multinodular goiter', 'Normal', 'Single nodular goiter-left', 'Single nodular goiter-right']\n",
      "------------------------------\n",
      "Adenopathy unique values:\n",
      "['No Lympth Adenopathy', 'Right Side Body Adenopathy', 'Extensive and Widespread', 'Left Side Body Adenopathy', 'Bilateral', 'Posterior']\n",
      "Categories (6, object): ['Bilateral', 'Extensive and Widespread', 'Left Side Body Adenopathy', 'No Lympth Adenopathy', 'Posterior', 'Right Side Body Adenopathy']\n",
      "------------------------------\n",
      "Types of Thyroid Cancer (Pathology) unique values:\n",
      "['Micropapillary', 'Papillary', 'Follicular', 'Hurthel cell']\n",
      "Categories (4, object): ['Follicular', 'Hurthel cell', 'Micropapillary', 'Papillary']\n",
      "------------------------------\n",
      "Focality unique values:\n",
      "['Uni-Focal', 'Multi-Focal']\n",
      "Categories (2, object): ['Multi-Focal', 'Uni-Focal']\n",
      "------------------------------\n",
      "Risk unique values:\n",
      "['Low', 'Intermediate', 'High']\n",
      "Categories (3, object): ['High', 'Intermediate', 'Low']\n",
      "------------------------------\n",
      "Tumor unique values:\n",
      "['tumor that is 1 cm or smaller', 'tumor larger than 1 cm but not larger than 2 cm', 'tumor larger than 2 cm but not larger than 4 cm', 'tumor larger than 4 cm', 'tumor that has grown outside the thyroid', 'tumor that has invaded nearby structures']\n",
      "Categories (6, object): ['tumor larger than 1 cm but not larger than 2 cm', 'tumor larger than 2 cm but not larger than 4 cm', 'tumor larger than 4 cm', 'tumor that has grown outside the thyroid', 'tumor that has invaded nearby structures', 'tumor that is 1 cm or smaller']\n",
      "------------------------------\n",
      "Lymph Nodes unique values:\n",
      "['no evidence of regional lymph node metastasis', 'regional lymph node metastasis in the central..., 'regional lymph node metastasis in the lateral...]\n",
      "Categories (3, object): ['no evidence of regional lymph node metastasis', 'regional lymph node metastasis in the central..., 'regional lymph node metastasis in the lateral...]\n",
      "------------------------------\n",
      "Stage unique values:\n",
      "['First-Stage', 'Second-Stage', 'IVB', 'Third-Stage', 'IVA']\n",
      "Categories (5, object): ['First-Stage', 'IVA', 'IVB', 'Second-Stage', 'Third-Stage']\n",
      "------------------------------\n",
      "Treatment Response unique values:\n",
      "['Indeterminate', 'Excellent', 'Structural Incomplete', 'Biochemical Incomplete']\n",
      "Categories (4, object): ['Biochemical Incomplete', 'Excellent', 'Indeterminate', 'Structural Incomplete']\n",
      "------------------------------\n",
      "Recurred unique values:\n",
      "[0, 1]\n",
      "Categories (2, int64): [0, 1]\n",
      "------------------------------\n"
     ]
    }
   ],
   "source": [
    "for col in df.columns:\n",
    "    print(f\"{col} unique values:\")\n",
    "    print(df[col].unique())\n",
    "    print(\"-\" * 30)\n"
   ]
  },
  {
   "cell_type": "code",
   "execution_count": null,
   "id": "cd150bc5",
   "metadata": {},
   "outputs": [
    {
     "data": {
      "image/png": "[encoded data removed]",
      "text/plain": [
       "<Figure size 640x480 with 2 Axes>"
      ]
     },
     "metadata": {},
     "output_type": "display_data"
    }
   ],
   "source": [
    "ConfusionMatrixDisplay.from_estimator(xgb_clf, X_test, y_test)\n",
    "plt.title(\"Confusion Matrix\")\n",
    "plt.grid(False)\n",
    "plt.show()"
   ]
  },
  {
   "cell_type": "code",
   "execution_count": null,
   "id": "7eae4ddb",
   "metadata": {},
   "outputs": [],
   "source": [
    "category_mappings = {}\n",
    "for col in X_train.select_dtypes(['category']).columns:\n",
    "    category_mappings[col] = X_train[col].cat.categories\n",
    "\n",
    "import pickle\n",
    "with open('category_mappings.pkl', 'wb') as f:\n",
    "    pickle.dump(category_mappings, f)\n"
   ]
  },
  {
   "cell_type": "code",
   "execution_count": 82,
   "id": "2168e02a",
   "metadata": {},
   "outputs": [
    {
     "data": {
      "text/plain": [
       "['thyroid_scaler.pkl']"
      ]
     },
     "execution_count": 82,
     "metadata": {},
     "output_type": "execute_result"
    }
   ],
   "source": [
    "import joblib\n",
    "\n",
    "joblib.dump(xgb_clf, \"xgb_model.pkl\")\n",
    "joblib.dump(scaler, \"thyroid_scaler.pkl\")"
   ]
  }
 ],
 "metadata": {
  "kernelspec": {
   "display_name": "base",
   "language": "python",
   "name": "python3"
  },
  "language_info": {
   "codemirror_mode": {
    "name": "ipython",
    "version": 3
   },
   "file_extension": ".py",
   "mimetype": "text/x-python",
   "name": "python",
   "nbconvert_exporter": "python",
   "pygments_lexer": "ipython3",
   "version": "3.12.7"
  }
 },
 "nbformat": 4,
 "nbformat_minor": 5
}
